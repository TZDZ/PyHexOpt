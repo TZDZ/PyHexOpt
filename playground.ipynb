{
 "cells": [
  {
   "cell_type": "code",
   "execution_count": 1,
   "id": "6ad25827",
   "metadata": {},
   "outputs": [],
   "source": [
    "import meshio"
   ]
  },
  {
   "cell_type": "code",
   "execution_count": 2,
   "id": "cc018b71",
   "metadata": {},
   "outputs": [
    {
     "name": "stdout",
     "output_type": "stream",
     "text": [
      "\n"
     ]
    }
   ],
   "source": [
    "msh = meshio.read(r\"examples/Square_mesh/square.msh\")"
   ]
  },
  {
   "cell_type": "code",
   "execution_count": 3,
   "id": "41127d60",
   "metadata": {},
   "outputs": [],
   "source": [
    "from pyhexopt.adapters.meshio_ import rotate_mesh\n",
    "\n",
    "\n",
    "out_mesh = rotate_mesh(mesh=msh, axis=[1,1,0],point=[0,0,0], angle_deg=30)"
   ]
  },
  {
   "cell_type": "code",
   "execution_count": 4,
   "id": "c2cb84e7",
   "metadata": {},
   "outputs": [],
   "source": [
    "out_mesh.write(r\"examples/Square_mesh/square_rot.msh\",file_format=\"gmsh\")"
   ]
  },
  {
   "cell_type": "code",
   "execution_count": 6,
   "id": "f5ceb8be",
   "metadata": {},
   "outputs": [
    {
     "data": {
      "text/plain": [
       "64"
      ]
     },
     "execution_count": 6,
     "metadata": {},
     "output_type": "execute_result"
    }
   ],
   "source": [
    "len(msh.points)"
   ]
  },
  {
   "cell_type": "code",
   "execution_count": null,
   "id": "68cfc037",
   "metadata": {},
   "outputs": [],
   "source": []
  },
  {
   "cell_type": "code",
   "execution_count": null,
   "id": "d77304de",
   "metadata": {},
   "outputs": [],
   "source": []
  }
 ],
 "metadata": {
  "kernelspec": {
   "display_name": "pyhexopt",
   "language": "python",
   "name": "python3"
  },
  "language_info": {
   "codemirror_mode": {
    "name": "ipython",
    "version": 3
   },
   "file_extension": ".py",
   "mimetype": "text/x-python",
   "name": "python",
   "nbconvert_exporter": "python",
   "pygments_lexer": "ipython3",
   "version": "3.13.2"
  }
 },
 "nbformat": 4,
 "nbformat_minor": 5
}
