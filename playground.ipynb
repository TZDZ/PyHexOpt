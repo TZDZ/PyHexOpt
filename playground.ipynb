{
 "cells": [
  {
   "cell_type": "code",
   "execution_count": 1,
   "id": "6ad25827",
   "metadata": {},
   "outputs": [],
   "source": [
    "import meshio"
   ]
  },
  {
   "cell_type": "code",
   "execution_count": 2,
   "id": "cc018b71",
   "metadata": {},
   "outputs": [
    {
     "name": "stdout",
     "output_type": "stream",
     "text": [
      "\n"
     ]
    }
   ],
   "source": [
    "msh = meshio.read(r\"examples/Square_mesh/quare.msh\")"
   ]
  },
  {
   "cell_type": "code",
   "execution_count": 10,
   "id": "41127d60",
   "metadata": {},
   "outputs": [],
   "source": [
    "cell = msh.cells_dict[\"hexahedron\"][0]\n",
    "n = [int(x) for x in cell]"
   ]
  },
  {
   "cell_type": "code",
   "execution_count": 4,
   "id": "c2cb84e7",
   "metadata": {},
   "outputs": [
    {
     "data": {
      "text/plain": [
       "56"
      ]
     },
     "execution_count": 4,
     "metadata": {},
     "output_type": "execute_result"
    }
   ],
   "source": [
    "from pyhexopt.core.utils import get_boundary_nodes\n",
    "\n",
    "\n",
    "len(get_boundary_nodes(msh))"
   ]
  },
  {
   "cell_type": "code",
   "execution_count": 6,
   "id": "f5ceb8be",
   "metadata": {},
   "outputs": [
    {
     "data": {
      "text/plain": [
       "64"
      ]
     },
     "execution_count": 6,
     "metadata": {},
     "output_type": "execute_result"
    }
   ],
   "source": [
    "len(msh.points)"
   ]
  },
  {
   "cell_type": "code",
   "execution_count": null,
   "id": "d77304de",
   "metadata": {},
   "outputs": [],
   "source": []
  }
 ],
 "metadata": {
  "kernelspec": {
   "display_name": "pyhexopt",
   "language": "python",
   "name": "python3"
  },
  "language_info": {
   "codemirror_mode": {
    "name": "ipython",
    "version": 3
   },
   "file_extension": ".py",
   "mimetype": "text/x-python",
   "name": "python",
   "nbconvert_exporter": "python",
   "pygments_lexer": "ipython3",
   "version": "3.13.2"
  }
 },
 "nbformat": 4,
 "nbformat_minor": 5
}
